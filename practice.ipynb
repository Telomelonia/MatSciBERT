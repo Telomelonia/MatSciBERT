{
 "cells": [
  {
   "cell_type": "code",
   "execution_count": 1,
   "metadata": {},
   "outputs": [
    {
     "ename": "ModuleNotFoundError",
     "evalue": "No module named 'torch'",
     "output_type": "error",
     "traceback": [
      "\u001b[1;31m---------------------------------------------------------------------------\u001b[0m",
      "\u001b[1;31mModuleNotFoundError\u001b[0m                       Traceback (most recent call last)",
      "\u001b[1;32m~\\AppData\\Local\\Temp\\ipykernel_17476\\4095354769.py\u001b[0m in \u001b[0;36m<module>\u001b[1;34m\u001b[0m\n\u001b[1;32m----> 1\u001b[1;33m \u001b[1;32mimport\u001b[0m \u001b[0mtorch\u001b[0m\u001b[1;33m\u001b[0m\u001b[1;33m\u001b[0m\u001b[0m\n\u001b[0m\u001b[0;32m      2\u001b[0m \u001b[1;32mfrom\u001b[0m \u001b[0mnormalize_text\u001b[0m \u001b[1;32mimport\u001b[0m \u001b[0mnormalize\u001b[0m\u001b[1;33m\u001b[0m\u001b[1;33m\u001b[0m\u001b[0m\n\u001b[0;32m      3\u001b[0m \u001b[1;32mfrom\u001b[0m \u001b[0mtransformers\u001b[0m \u001b[1;32mimport\u001b[0m \u001b[0mAutoModel\u001b[0m\u001b[1;33m,\u001b[0m \u001b[0mAutoTokenizer\u001b[0m\u001b[1;33m\u001b[0m\u001b[1;33m\u001b[0m\u001b[0m\n",
      "\u001b[1;31mModuleNotFoundError\u001b[0m: No module named 'torch'"
     ]
    }
   ],
   "source": [
    "import torch\n",
    "from normalize_text import normalize\n",
    "from transformers import AutoModel, AutoTokenizer"
   ]
  },
  {
   "cell_type": "code",
   "execution_count": 2,
   "metadata": {},
   "outputs": [
    {
     "name": "stdout",
     "output_type": "stream",
     "text": [
      "Collecting torch\n",
      "  Downloading torch-1.13.1-cp37-cp37m-win_amd64.whl (162.6 MB)\n",
      "     -------------------------------------- 162.6/162.6 MB 1.5 MB/s eta 0:00:00\n",
      "Collecting typing-extensions\n",
      "  Downloading typing_extensions-4.5.0-py3-none-any.whl (27 kB)\n",
      "Installing collected packages: typing-extensions, torch\n",
      "Successfully installed torch-1.13.1 typing-extensions-4.5.0\n",
      "Note: you may need to restart the kernel to use updated packages.\n"
     ]
    }
   ],
   "source": [
    "pip install torch"
   ]
  },
  {
   "cell_type": "code",
   "execution_count": 3,
   "metadata": {},
   "outputs": [
    {
     "name": "stdout",
     "output_type": "stream",
     "text": [
      "Collecting transformers\n",
      "  Downloading transformers-4.26.1-py3-none-any.whl (6.3 MB)\n",
      "     ---------------------------------------- 6.3/6.3 MB 1.1 MB/s eta 0:00:00\n",
      "Collecting huggingface-hub<1.0,>=0.11.0\n",
      "  Downloading huggingface_hub-0.12.1-py3-none-any.whl (190 kB)\n",
      "     -------------------------------------- 190.3/190.3 kB 1.7 MB/s eta 0:00:00\n",
      "Collecting pyyaml>=5.1\n",
      "  Downloading PyYAML-6.0-cp37-cp37m-win_amd64.whl (153 kB)\n",
      "     -------------------------------------- 153.2/153.2 kB 1.5 MB/s eta 0:00:00\n",
      "Collecting numpy>=1.17\n",
      "  Downloading numpy-1.21.6-cp37-cp37m-win_amd64.whl (14.0 MB)\n",
      "     ---------------------------------------- 14.0/14.0 MB 1.6 MB/s eta 0:00:00\n",
      "Collecting requests\n",
      "  Downloading requests-2.28.2-py3-none-any.whl (62 kB)\n",
      "     ---------------------------------------- 62.8/62.8 kB 1.6 MB/s eta 0:00:00\n",
      "Requirement already satisfied: packaging>=20.0 in c:\\users\\shukl\\anaconda3\\envs\\matscibert\\lib\\site-packages (from transformers) (23.0)\n",
      "Collecting filelock\n",
      "  Downloading filelock-3.9.0-py3-none-any.whl (9.7 kB)\n",
      "Collecting tqdm>=4.27\n",
      "  Downloading tqdm-4.64.1-py2.py3-none-any.whl (78 kB)\n",
      "     ---------------------------------------- 78.5/78.5 kB 2.2 MB/s eta 0:00:00\n",
      "Collecting importlib-metadata\n",
      "  Downloading importlib_metadata-6.0.0-py3-none-any.whl (21 kB)\n",
      "Collecting regex!=2019.12.17\n",
      "  Downloading regex-2022.10.31-cp37-cp37m-win_amd64.whl (268 kB)\n",
      "     -------------------------------------- 268.0/268.0 kB 1.5 MB/s eta 0:00:00\n",
      "Collecting tokenizers!=0.11.3,<0.14,>=0.11.1\n",
      "  Downloading tokenizers-0.13.2-cp37-cp37m-win_amd64.whl (3.3 MB)\n",
      "     ---------------------------------------- 3.3/3.3 MB 1.5 MB/s eta 0:00:00\n",
      "Requirement already satisfied: typing-extensions>=3.7.4.3 in c:\\users\\shukl\\anaconda3\\envs\\matscibert\\lib\\site-packages (from huggingface-hub<1.0,>=0.11.0->transformers) (4.5.0)\n",
      "Requirement already satisfied: colorama in c:\\users\\shukl\\anaconda3\\envs\\matscibert\\lib\\site-packages (from tqdm>=4.27->transformers) (0.4.6)\n",
      "Collecting zipp>=0.5\n",
      "  Downloading zipp-3.14.0-py3-none-any.whl (6.7 kB)\n",
      "Collecting urllib3<1.27,>=1.21.1\n",
      "  Downloading urllib3-1.26.14-py2.py3-none-any.whl (140 kB)\n",
      "     -------------------------------------- 140.6/140.6 kB 1.7 MB/s eta 0:00:00\n",
      "Collecting charset-normalizer<4,>=2\n",
      "  Downloading charset_normalizer-3.0.1-cp37-cp37m-win_amd64.whl (94 kB)\n",
      "     ---------------------------------------- 94.0/94.0 kB 1.8 MB/s eta 0:00:00\n",
      "Requirement already satisfied: certifi>=2017.4.17 in c:\\users\\shukl\\anaconda3\\envs\\matscibert\\lib\\site-packages (from requests->transformers) (2022.12.7)\n",
      "Collecting idna<4,>=2.5\n",
      "  Using cached idna-3.4-py3-none-any.whl (61 kB)\n",
      "Installing collected packages: tokenizers, charset-normalizer, zipp, urllib3, tqdm, regex, pyyaml, numpy, idna, filelock, requests, importlib-metadata, huggingface-hub, transformers\n",
      "Successfully installed charset-normalizer-3.0.1 filelock-3.9.0 huggingface-hub-0.12.1 idna-3.4 importlib-metadata-6.0.0 numpy-1.21.6 pyyaml-6.0 regex-2022.10.31 requests-2.28.2 tokenizers-0.13.2 tqdm-4.64.1 transformers-4.26.1 urllib3-1.26.14 zipp-3.14.0\n",
      "Note: you may need to restart the kernel to use updated packages.\n"
     ]
    }
   ],
   "source": [
    "pip install transformers"
   ]
  },
  {
   "cell_type": "code",
   "execution_count": 3,
   "metadata": {},
   "outputs": [
    {
     "name": "stderr",
     "output_type": "stream",
     "text": [
      "c:\\Users\\shukl\\anaconda3\\envs\\matscibert\\lib\\site-packages\\tqdm\\auto.py:22: TqdmWarning: IProgress not found. Please update jupyter and ipywidgets. See https://ipywidgets.readthedocs.io/en/stable/user_install.html\n",
      "  from .autonotebook import tqdm as notebook_tqdm\n"
     ]
    }
   ],
   "source": [
    "import torch\n",
    "from normalize_text import normalize\n",
    "from transformers import AutoModel, AutoTokenizer"
   ]
  },
  {
   "cell_type": "code",
   "execution_count": 4,
   "metadata": {},
   "outputs": [
    {
     "name": "stderr",
     "output_type": "stream",
     "text": [
      "Some weights of the model checkpoint at m3rg-iitd/matscibert were not used when initializing BertModel: ['cls.predictions.transform.LayerNorm.bias', 'cls.predictions.transform.dense.weight', 'cls.predictions.decoder.bias', 'cls.predictions.transform.dense.bias', 'cls.predictions.decoder.weight', 'cls.predictions.bias', 'cls.predictions.transform.LayerNorm.weight']\n",
      "- This IS expected if you are initializing BertModel from the checkpoint of a model trained on another task or with another architecture (e.g. initializing a BertForSequenceClassification model from a BertForPreTraining model).\n",
      "- This IS NOT expected if you are initializing BertModel from the checkpoint of a model that you expect to be exactly identical (initializing a BertForSequenceClassification model from a BertForSequenceClassification model).\n",
      "Some weights of BertModel were not initialized from the model checkpoint at m3rg-iitd/matscibert and are newly initialized: ['bert.pooler.dense.weight', 'bert.pooler.dense.bias']\n",
      "You should probably TRAIN this model on a down-stream task to be able to use it for predictions and inference.\n"
     ]
    }
   ],
   "source": [
    "tokenizer = AutoTokenizer.from_pretrained('m3rg-iitd/matscibert')\n",
    "model = AutoModel.from_pretrained('m3rg-iitd/matscibert')"
   ]
  },
  {
   "attachments": {},
   "cell_type": "markdown",
   "metadata": {},
   "source": [
    "### How to data mine from a reseach paper "
   ]
  },
  {
   "attachments": {},
   "cell_type": "markdown",
   "metadata": {},
   "source": [
    "- Using elsevier database to extract the research paper \n",
    "- Using the scienceDirect api to take xml file which will be used to extract the text"
   ]
  },
  {
   "cell_type": "code",
   "execution_count": 14,
   "metadata": {},
   "outputs": [],
   "source": [
    "key = \"aa23a95ab3b5e2f43f9a4cc287627356\""
   ]
  },
  {
   "cell_type": "code",
   "execution_count": 4,
   "metadata": {},
   "outputs": [],
   "source": [
    "import urllib.request\n",
    "import shutil\n",
    "import os"
   ]
  },
  {
   "cell_type": "code",
   "execution_count": 15,
   "metadata": {},
   "outputs": [
    {
     "ename": "HTTPError",
     "evalue": "HTTP Error 404: Not Found",
     "output_type": "error",
     "traceback": [
      "\u001b[1;31m---------------------------------------------------------------------------\u001b[0m",
      "\u001b[1;31mHTTPError\u001b[0m                                 Traceback (most recent call last)",
      "\u001b[1;32m~\\AppData\\Local\\Temp\\ipykernel_19628\\3956214117.py\u001b[0m in \u001b[0;36m<module>\u001b[1;34m\u001b[0m\n\u001b[0;32m      2\u001b[0m \u001b[1;32mfor\u001b[0m \u001b[0murl\u001b[0m \u001b[1;32min\u001b[0m \u001b[0murls\u001b[0m\u001b[1;33m:\u001b[0m\u001b[1;33m\u001b[0m\u001b[1;33m\u001b[0m\u001b[0m\n\u001b[0;32m      3\u001b[0m     \u001b[0mname\u001b[0m \u001b[1;33m=\u001b[0m \u001b[0murl\u001b[0m\u001b[1;33m.\u001b[0m\u001b[0mrsplit\u001b[0m\u001b[1;33m(\u001b[0m\u001b[1;34m'/'\u001b[0m\u001b[1;33m,\u001b[0m \u001b[1;36m1\u001b[0m\u001b[1;33m)\u001b[0m\u001b[1;33m[\u001b[0m\u001b[1;33m-\u001b[0m\u001b[1;36m1\u001b[0m\u001b[1;33m]\u001b[0m\u001b[1;33m[\u001b[0m\u001b[1;36m0\u001b[0m\u001b[1;33m:\u001b[0m\u001b[1;33m-\u001b[0m\u001b[1;36m1\u001b[0m\u001b[1;33m]\u001b[0m\u001b[1;33m\u001b[0m\u001b[1;33m\u001b[0m\u001b[0m\n\u001b[1;32m----> 4\u001b[1;33m     \u001b[0mresponse\u001b[0m\u001b[1;33m,\u001b[0m\u001b[0mheaders\u001b[0m \u001b[1;33m=\u001b[0m \u001b[0murllib\u001b[0m\u001b[1;33m.\u001b[0m\u001b[0mrequest\u001b[0m\u001b[1;33m.\u001b[0m\u001b[0murlretrieve\u001b[0m\u001b[1;33m(\u001b[0m\u001b[1;34m'https://api.elsevier.com/content/article/pii/'\u001b[0m\u001b[1;33m+\u001b[0m\u001b[0mname\u001b[0m\u001b[1;33m+\u001b[0m\u001b[1;34m'?apiKey='\u001b[0m\u001b[1;33m+\u001b[0m\u001b[0mkey\u001b[0m\u001b[1;33m)\u001b[0m\u001b[1;33m\u001b[0m\u001b[1;33m\u001b[0m\u001b[0m\n\u001b[0m\u001b[0;32m      5\u001b[0m     \u001b[0mfilename\u001b[0m \u001b[1;33m=\u001b[0m \u001b[0mos\u001b[0m\u001b[1;33m.\u001b[0m\u001b[0mpath\u001b[0m\u001b[1;33m.\u001b[0m\u001b[0mjoin\u001b[0m\u001b[1;33m(\u001b[0m\u001b[1;34m'Z:\\MatSciBERT\\pract'\u001b[0m\u001b[1;33m,\u001b[0m \u001b[0mresponse\u001b[0m\u001b[1;33m)\u001b[0m\u001b[1;33m\u001b[0m\u001b[1;33m\u001b[0m\u001b[0m\n\u001b[0;32m      6\u001b[0m     \u001b[0mshutil\u001b[0m\u001b[1;33m.\u001b[0m\u001b[0mcopy\u001b[0m\u001b[1;33m(\u001b[0m\u001b[0mfilename\u001b[0m\u001b[1;33m,\u001b[0m \u001b[1;34m'Z:\\MatSciBERT\\pract'\u001b[0m\u001b[1;33m+\u001b[0m \u001b[0mname\u001b[0m \u001b[1;33m+\u001b[0m\u001b[1;34m\".xml\"\u001b[0m\u001b[1;33m)\u001b[0m\u001b[1;33m\u001b[0m\u001b[1;33m\u001b[0m\u001b[0m\n",
      "\u001b[1;32mc:\\Users\\shukl\\anaconda3\\envs\\matscibert\\lib\\urllib\\request.py\u001b[0m in \u001b[0;36murlretrieve\u001b[1;34m(url, filename, reporthook, data)\u001b[0m\n\u001b[0;32m    245\u001b[0m     \u001b[0murl_type\u001b[0m\u001b[1;33m,\u001b[0m \u001b[0mpath\u001b[0m \u001b[1;33m=\u001b[0m \u001b[0msplittype\u001b[0m\u001b[1;33m(\u001b[0m\u001b[0murl\u001b[0m\u001b[1;33m)\u001b[0m\u001b[1;33m\u001b[0m\u001b[1;33m\u001b[0m\u001b[0m\n\u001b[0;32m    246\u001b[0m \u001b[1;33m\u001b[0m\u001b[0m\n\u001b[1;32m--> 247\u001b[1;33m     \u001b[1;32mwith\u001b[0m \u001b[0mcontextlib\u001b[0m\u001b[1;33m.\u001b[0m\u001b[0mclosing\u001b[0m\u001b[1;33m(\u001b[0m\u001b[0murlopen\u001b[0m\u001b[1;33m(\u001b[0m\u001b[0murl\u001b[0m\u001b[1;33m,\u001b[0m \u001b[0mdata\u001b[0m\u001b[1;33m)\u001b[0m\u001b[1;33m)\u001b[0m \u001b[1;32mas\u001b[0m \u001b[0mfp\u001b[0m\u001b[1;33m:\u001b[0m\u001b[1;33m\u001b[0m\u001b[1;33m\u001b[0m\u001b[0m\n\u001b[0m\u001b[0;32m    248\u001b[0m         \u001b[0mheaders\u001b[0m \u001b[1;33m=\u001b[0m \u001b[0mfp\u001b[0m\u001b[1;33m.\u001b[0m\u001b[0minfo\u001b[0m\u001b[1;33m(\u001b[0m\u001b[1;33m)\u001b[0m\u001b[1;33m\u001b[0m\u001b[1;33m\u001b[0m\u001b[0m\n\u001b[0;32m    249\u001b[0m \u001b[1;33m\u001b[0m\u001b[0m\n",
      "\u001b[1;32mc:\\Users\\shukl\\anaconda3\\envs\\matscibert\\lib\\urllib\\request.py\u001b[0m in \u001b[0;36murlopen\u001b[1;34m(url, data, timeout, cafile, capath, cadefault, context)\u001b[0m\n\u001b[0;32m    220\u001b[0m     \u001b[1;32melse\u001b[0m\u001b[1;33m:\u001b[0m\u001b[1;33m\u001b[0m\u001b[1;33m\u001b[0m\u001b[0m\n\u001b[0;32m    221\u001b[0m         \u001b[0mopener\u001b[0m \u001b[1;33m=\u001b[0m \u001b[0m_opener\u001b[0m\u001b[1;33m\u001b[0m\u001b[1;33m\u001b[0m\u001b[0m\n\u001b[1;32m--> 222\u001b[1;33m     \u001b[1;32mreturn\u001b[0m \u001b[0mopener\u001b[0m\u001b[1;33m.\u001b[0m\u001b[0mopen\u001b[0m\u001b[1;33m(\u001b[0m\u001b[0murl\u001b[0m\u001b[1;33m,\u001b[0m \u001b[0mdata\u001b[0m\u001b[1;33m,\u001b[0m \u001b[0mtimeout\u001b[0m\u001b[1;33m)\u001b[0m\u001b[1;33m\u001b[0m\u001b[1;33m\u001b[0m\u001b[0m\n\u001b[0m\u001b[0;32m    223\u001b[0m \u001b[1;33m\u001b[0m\u001b[0m\n\u001b[0;32m    224\u001b[0m \u001b[1;32mdef\u001b[0m \u001b[0minstall_opener\u001b[0m\u001b[1;33m(\u001b[0m\u001b[0mopener\u001b[0m\u001b[1;33m)\u001b[0m\u001b[1;33m:\u001b[0m\u001b[1;33m\u001b[0m\u001b[1;33m\u001b[0m\u001b[0m\n",
      "\u001b[1;32mc:\\Users\\shukl\\anaconda3\\envs\\matscibert\\lib\\urllib\\request.py\u001b[0m in \u001b[0;36mopen\u001b[1;34m(self, fullurl, data, timeout)\u001b[0m\n\u001b[0;32m    529\u001b[0m         \u001b[1;32mfor\u001b[0m \u001b[0mprocessor\u001b[0m \u001b[1;32min\u001b[0m \u001b[0mself\u001b[0m\u001b[1;33m.\u001b[0m\u001b[0mprocess_response\u001b[0m\u001b[1;33m.\u001b[0m\u001b[0mget\u001b[0m\u001b[1;33m(\u001b[0m\u001b[0mprotocol\u001b[0m\u001b[1;33m,\u001b[0m \u001b[1;33m[\u001b[0m\u001b[1;33m]\u001b[0m\u001b[1;33m)\u001b[0m\u001b[1;33m:\u001b[0m\u001b[1;33m\u001b[0m\u001b[1;33m\u001b[0m\u001b[0m\n\u001b[0;32m    530\u001b[0m             \u001b[0mmeth\u001b[0m \u001b[1;33m=\u001b[0m \u001b[0mgetattr\u001b[0m\u001b[1;33m(\u001b[0m\u001b[0mprocessor\u001b[0m\u001b[1;33m,\u001b[0m \u001b[0mmeth_name\u001b[0m\u001b[1;33m)\u001b[0m\u001b[1;33m\u001b[0m\u001b[1;33m\u001b[0m\u001b[0m\n\u001b[1;32m--> 531\u001b[1;33m             \u001b[0mresponse\u001b[0m \u001b[1;33m=\u001b[0m \u001b[0mmeth\u001b[0m\u001b[1;33m(\u001b[0m\u001b[0mreq\u001b[0m\u001b[1;33m,\u001b[0m \u001b[0mresponse\u001b[0m\u001b[1;33m)\u001b[0m\u001b[1;33m\u001b[0m\u001b[1;33m\u001b[0m\u001b[0m\n\u001b[0m\u001b[0;32m    532\u001b[0m \u001b[1;33m\u001b[0m\u001b[0m\n\u001b[0;32m    533\u001b[0m         \u001b[1;32mreturn\u001b[0m \u001b[0mresponse\u001b[0m\u001b[1;33m\u001b[0m\u001b[1;33m\u001b[0m\u001b[0m\n",
      "\u001b[1;32mc:\\Users\\shukl\\anaconda3\\envs\\matscibert\\lib\\urllib\\request.py\u001b[0m in \u001b[0;36mhttp_response\u001b[1;34m(self, request, response)\u001b[0m\n\u001b[0;32m    639\u001b[0m         \u001b[1;32mif\u001b[0m \u001b[1;32mnot\u001b[0m \u001b[1;33m(\u001b[0m\u001b[1;36m200\u001b[0m \u001b[1;33m<=\u001b[0m \u001b[0mcode\u001b[0m \u001b[1;33m<\u001b[0m \u001b[1;36m300\u001b[0m\u001b[1;33m)\u001b[0m\u001b[1;33m:\u001b[0m\u001b[1;33m\u001b[0m\u001b[1;33m\u001b[0m\u001b[0m\n\u001b[0;32m    640\u001b[0m             response = self.parent.error(\n\u001b[1;32m--> 641\u001b[1;33m                 'http', request, response, code, msg, hdrs)\n\u001b[0m\u001b[0;32m    642\u001b[0m \u001b[1;33m\u001b[0m\u001b[0m\n\u001b[0;32m    643\u001b[0m         \u001b[1;32mreturn\u001b[0m \u001b[0mresponse\u001b[0m\u001b[1;33m\u001b[0m\u001b[1;33m\u001b[0m\u001b[0m\n",
      "\u001b[1;32mc:\\Users\\shukl\\anaconda3\\envs\\matscibert\\lib\\urllib\\request.py\u001b[0m in \u001b[0;36merror\u001b[1;34m(self, proto, *args)\u001b[0m\n\u001b[0;32m    567\u001b[0m         \u001b[1;32mif\u001b[0m \u001b[0mhttp_err\u001b[0m\u001b[1;33m:\u001b[0m\u001b[1;33m\u001b[0m\u001b[1;33m\u001b[0m\u001b[0m\n\u001b[0;32m    568\u001b[0m             \u001b[0margs\u001b[0m \u001b[1;33m=\u001b[0m \u001b[1;33m(\u001b[0m\u001b[0mdict\u001b[0m\u001b[1;33m,\u001b[0m \u001b[1;34m'default'\u001b[0m\u001b[1;33m,\u001b[0m \u001b[1;34m'http_error_default'\u001b[0m\u001b[1;33m)\u001b[0m \u001b[1;33m+\u001b[0m \u001b[0morig_args\u001b[0m\u001b[1;33m\u001b[0m\u001b[1;33m\u001b[0m\u001b[0m\n\u001b[1;32m--> 569\u001b[1;33m             \u001b[1;32mreturn\u001b[0m \u001b[0mself\u001b[0m\u001b[1;33m.\u001b[0m\u001b[0m_call_chain\u001b[0m\u001b[1;33m(\u001b[0m\u001b[1;33m*\u001b[0m\u001b[0margs\u001b[0m\u001b[1;33m)\u001b[0m\u001b[1;33m\u001b[0m\u001b[1;33m\u001b[0m\u001b[0m\n\u001b[0m\u001b[0;32m    570\u001b[0m \u001b[1;33m\u001b[0m\u001b[0m\n\u001b[0;32m    571\u001b[0m \u001b[1;31m# XXX probably also want an abstract factory that knows when it makes\u001b[0m\u001b[1;33m\u001b[0m\u001b[1;33m\u001b[0m\u001b[1;33m\u001b[0m\u001b[0m\n",
      "\u001b[1;32mc:\\Users\\shukl\\anaconda3\\envs\\matscibert\\lib\\urllib\\request.py\u001b[0m in \u001b[0;36m_call_chain\u001b[1;34m(self, chain, kind, meth_name, *args)\u001b[0m\n\u001b[0;32m    501\u001b[0m         \u001b[1;32mfor\u001b[0m \u001b[0mhandler\u001b[0m \u001b[1;32min\u001b[0m \u001b[0mhandlers\u001b[0m\u001b[1;33m:\u001b[0m\u001b[1;33m\u001b[0m\u001b[1;33m\u001b[0m\u001b[0m\n\u001b[0;32m    502\u001b[0m             \u001b[0mfunc\u001b[0m \u001b[1;33m=\u001b[0m \u001b[0mgetattr\u001b[0m\u001b[1;33m(\u001b[0m\u001b[0mhandler\u001b[0m\u001b[1;33m,\u001b[0m \u001b[0mmeth_name\u001b[0m\u001b[1;33m)\u001b[0m\u001b[1;33m\u001b[0m\u001b[1;33m\u001b[0m\u001b[0m\n\u001b[1;32m--> 503\u001b[1;33m             \u001b[0mresult\u001b[0m \u001b[1;33m=\u001b[0m \u001b[0mfunc\u001b[0m\u001b[1;33m(\u001b[0m\u001b[1;33m*\u001b[0m\u001b[0margs\u001b[0m\u001b[1;33m)\u001b[0m\u001b[1;33m\u001b[0m\u001b[1;33m\u001b[0m\u001b[0m\n\u001b[0m\u001b[0;32m    504\u001b[0m             \u001b[1;32mif\u001b[0m \u001b[0mresult\u001b[0m \u001b[1;32mis\u001b[0m \u001b[1;32mnot\u001b[0m \u001b[1;32mNone\u001b[0m\u001b[1;33m:\u001b[0m\u001b[1;33m\u001b[0m\u001b[1;33m\u001b[0m\u001b[0m\n\u001b[0;32m    505\u001b[0m                 \u001b[1;32mreturn\u001b[0m \u001b[0mresult\u001b[0m\u001b[1;33m\u001b[0m\u001b[1;33m\u001b[0m\u001b[0m\n",
      "\u001b[1;32mc:\\Users\\shukl\\anaconda3\\envs\\matscibert\\lib\\urllib\\request.py\u001b[0m in \u001b[0;36mhttp_error_default\u001b[1;34m(self, req, fp, code, msg, hdrs)\u001b[0m\n\u001b[0;32m    647\u001b[0m \u001b[1;32mclass\u001b[0m \u001b[0mHTTPDefaultErrorHandler\u001b[0m\u001b[1;33m(\u001b[0m\u001b[0mBaseHandler\u001b[0m\u001b[1;33m)\u001b[0m\u001b[1;33m:\u001b[0m\u001b[1;33m\u001b[0m\u001b[1;33m\u001b[0m\u001b[0m\n\u001b[0;32m    648\u001b[0m     \u001b[1;32mdef\u001b[0m \u001b[0mhttp_error_default\u001b[0m\u001b[1;33m(\u001b[0m\u001b[0mself\u001b[0m\u001b[1;33m,\u001b[0m \u001b[0mreq\u001b[0m\u001b[1;33m,\u001b[0m \u001b[0mfp\u001b[0m\u001b[1;33m,\u001b[0m \u001b[0mcode\u001b[0m\u001b[1;33m,\u001b[0m \u001b[0mmsg\u001b[0m\u001b[1;33m,\u001b[0m \u001b[0mhdrs\u001b[0m\u001b[1;33m)\u001b[0m\u001b[1;33m:\u001b[0m\u001b[1;33m\u001b[0m\u001b[1;33m\u001b[0m\u001b[0m\n\u001b[1;32m--> 649\u001b[1;33m         \u001b[1;32mraise\u001b[0m \u001b[0mHTTPError\u001b[0m\u001b[1;33m(\u001b[0m\u001b[0mreq\u001b[0m\u001b[1;33m.\u001b[0m\u001b[0mfull_url\u001b[0m\u001b[1;33m,\u001b[0m \u001b[0mcode\u001b[0m\u001b[1;33m,\u001b[0m \u001b[0mmsg\u001b[0m\u001b[1;33m,\u001b[0m \u001b[0mhdrs\u001b[0m\u001b[1;33m,\u001b[0m \u001b[0mfp\u001b[0m\u001b[1;33m)\u001b[0m\u001b[1;33m\u001b[0m\u001b[1;33m\u001b[0m\u001b[0m\n\u001b[0m\u001b[0;32m    650\u001b[0m \u001b[1;33m\u001b[0m\u001b[0m\n\u001b[0;32m    651\u001b[0m \u001b[1;32mclass\u001b[0m \u001b[0mHTTPRedirectHandler\u001b[0m\u001b[1;33m(\u001b[0m\u001b[0mBaseHandler\u001b[0m\u001b[1;33m)\u001b[0m\u001b[1;33m:\u001b[0m\u001b[1;33m\u001b[0m\u001b[1;33m\u001b[0m\u001b[0m\n",
      "\u001b[1;31mHTTPError\u001b[0m: HTTP Error 404: Not Found"
     ]
    }
   ],
   "source": [
    "urls = ['https://www.sciencedirect.com/science/article/pii/S0921509323001727']\n",
    "for url in urls:\n",
    "    name = url.rsplit('/', 1)[-1][0:-1]\n",
    "    response,headers = urllib.request.urlretrieve('https://api.elsevier.com/content/article/pii/'+name+'?apiKey='+key)\n",
    "    filename = os.path.join('Z:\\MatSciBERT\\pract', response)\n",
    "    shutil.copy(filename, 'Z:\\MatSciBERT\\pract'+ name +\".xml\")"
   ]
  },
  {
   "attachments": {},
   "cell_type": "markdown",
   "metadata": {},
   "source": [
    "once getting the xml file we need to take out the text"
   ]
  },
  {
   "cell_type": "code",
   "execution_count": 38,
   "metadata": {},
   "outputs": [],
   "source": [
    "dict = {'introduction': \n",
    "\"\"\"High entropy alloys (HEAs), a new alloy system, are usually composed of five or more metal elements in equal or nearly equal atomic ratios. High entropy alloys have significant multi-element effects: high entropy, slow diffusion, lattice distortion and cocktail effects[[1], [2], [3], [4]]. In the design concept of traditional alloys, the more kinds of metals added into the alloy, the more serious embrittlement will be caused. However, due to the high mixing entropy effect [[5], [6]], the high-entropy alloy is more inclined to form simple solid solution structures (FCC, BCC, FCC+BCC) [[7], [8], [9], [10], [11], [12], [13], [14], [15], [16], [17], [18], [19]], rather than the complex solid solution structure in traditional alloys. Generally, face-centered cubic (FCC) single-phase HEAs have good ductility but low yield strength, while body-centered cubic (BCC) single-phase HEAs have high yield strength but limited plasticity [20]. The simple solid solution structure makes high-entropy alloys have good structural stability [[21], [22], [23]], so the high-entropy alloys have many excellent properties, such as good mechanical properties [22,[24], [25], [26], [27]], thermal stability [[28], [29], [30], [31], [32]], high fracture toughness [33,34], high creep resistance [35,36], etc. Therefore, in recent years, domestic and foreign scholars have conducted extensive studies on the deformation behavior of HEAs [[37], [38], [39]]. However, the deformation process always involves various interrelated metallurgical phenomena, such as work hardening (WH), dynamic recovery (DRV) and dynamic recrystallization (DRX)[40,41]. Among them, dynamic recrystallization is an important softening mechanism in the process of hot deformation of materials, and the fine grains produced can effectively improve their mechanical properties as required[42]. As one of the main softening mechanisms of metal materials during thermal deformation, dynamic recrystallization is conducive to grain refinement. By reducing anisotropy and deformation resistance, it can enhance the formability of alloys and improve the comprehensive mechanical properties of materials.\n",
    "\n",
    "Recently, dynamic recrystallization behavior has been extensively studied by domestic and foreign scholars. Among which, Wang et al [43]. described in detail the transformation from partial to complete recrystallization of Al0.3CoCrFeNi eutectic high-entropy alloy and the precipitation behavior after annealing, they found that the decrease in hardness was caused by softening due to dynamic recrystallization and dynamic recovery. Zhang et al [44]. studied the hot deformation behavior of the FCC structure AlCoCrFeNi2.1 high-entropy alloy, which exhibits excellent extensibility caused by the precipitation of B2 phase and the generation of dynamic recrystallization (DRX). It can be seen that the softening behavior and hardness decrease during thermal deformation of high-entropy alloys are caused by dynamic recrystallization, but due to the characteristics of high strength and low plasticity of single-phase BCC structure high-entropy alloys, the formability of them are poor and the hot working region is usually difficult to determine. Therefore, it is important to study the dynamic recrystallization behavior for determining the hot formability of single-phase BCC structure high-entropy alloy. Zeinab Savaedi et al[45]. discussed the hot deformation behavior of various high-entropy alloys and the constitutive relationship of flow stress. The formation of necklace-like structures during dynamic recrystallization and the effect of process parameters on dynamic recrystallization grain size are described. Therefore, hot working is often used to refine dynamic recrystallization (DRX) grains to reduce casting defects and enhancement the mechanical properties of HEAS at present. In order to understand the dynamic recrystallization behavior in hot deformation process, it is very important to study the critical condition of dynamic recrystallization. Dynamic recrystallization can occur only when the strain reaches the critical strain of dynamic recrystallization. Therefore, the establishment of the critical strain model is very important for the whole dynamic recrystallization model. Domestic and foreign scholars [[46], [47], [48]] have successively proposed the critical strain model and dynamic recrystallization kinetic model to describe the dynamic recrystallization process. The critical condition of dynamic recrystallization is determined by the initial strain and stress, which is closely related to the conditions of hot deformation. However, there are few studies on the dynamic recrystallization model of single-phase BCC high-entropy alloy at present. Therefore, it is important to determine the critical conditions of dynamic recrystallization under different hot deformation conditions and establish its critical strain model [48] to determine the occurrence of dynamic recrystallization during hot deformation. The study of the dynamic recrystallization structure stabilization control during hot deformation is one of the common problems to improve the forging technology of AlFeCoNiMo0.2 high-entropy alloy. To study the effects of critical strain and nucleation mechanism of AlFeCoNiMo0.2 high-entropy alloy during hot compression, which provides a basis for further research on the development and hot working process of the alloy.\n",
    "\n",
    "Thus, the single-phase BCC structure AlFeCoNiMo0.2 high-entropy alloy was selected as the research object in this study. Based on the single-pass hot compression tests at different temperatures and strain rates, the dynamic recrystallization behavior under different deformation conditions was studied in combination with the microstructure characteristics. The KM model is used to describe the relationship between dynamic recrystallization flow stress and strain. According to the Poliak-Jonas criterion, the critical condition of DRX is determined according to the hardening rate, and the strain model of DRX is established. The microstructure of the alloy is characterized by TEM and EBSD, and the results of the above modeling theory are verified by microstructure. The effects of critical strain and nucleation mechanism during the hot compression of AlFeCoNiMo0.2 HEA are studied, which laid a foundation for further research on the development and hot working process of the HEA.\"\"\"\n",
    "\n",
    ",\n",
    "'Experimental Methods':\n",
    "\"\"\"The self-designed AlFeCoNiMo0.2 HEA was made by melting pure metal raw materials (>99.9%) of high-purity Al,Fe,Co, Ni and Mo in a water-cooled copper crucible (23.81Al, 23.81Fe, 23.81Co, 23.81Ni, 4.76Mo, at%). During the melting process, the alloy was repeatedly melted 4 times to ensure the homogeneity of the composition. The homogenized HEA was processed into a compression specimens with a diameter of 8 mm and a height of 12 mm. The Gleeble-3800 thermomechanical simulator was used to single-pass high temperature compression test. To reduce the friction and uneven deformation during the test, pasted the graphite sheets at the end of the sample for lubrication. Heated the sample to the target temperature at a rate of 10°C/s and held for 5 min, and then start compression. The samples were compressed at the temperature of 900, 950, 1000, 1050, 1100, 1150°C and the strain rates of 0.001, 0.01, 0.1, 1 s-1. The maximum strain was 0.6. According to the influence of the maximum diameter friction effect proposed by Ebrahimi et al., the stress-strain curves were modified [49]. Water quenching immediately after compression to retain high temperature structure.The hot-compressed AlFeCoNiMo0.2 high-entropy alloy was made into samples along the compression direction, and then the section of the sample is ground, polished and corroded. In order to study the dynamic recrystallization during hot compression, the microstructure was observed by Gemini-300 scanning electron microscope (SEM), and the transmission samples were thinned by Struers Tenupol-5 electrolytic double-jet thinning instrument. Finally, the dynamic recrystallization behavior was characterized by JEM-2100 transmission electron microscope.\"\"\"\n",
    "}\n"
   ]
  },
  {
   "cell_type": "code",
   "execution_count": 20,
   "metadata": {},
   "outputs": [
    {
     "name": "stdout",
     "output_type": "stream",
     "text": [
      "Collecting nltk\n",
      "  Downloading nltk-3.8.1-py3-none-any.whl (1.5 MB)\n",
      "     ---------------------------------------- 1.5/1.5 MB 3.3 MB/s eta 0:00:00\n",
      "Collecting click\n",
      "  Using cached click-8.1.3-py3-none-any.whl (96 kB)\n",
      "Collecting joblib\n",
      "  Downloading joblib-1.2.0-py3-none-any.whl (297 kB)\n",
      "     -------------------------------------- 298.0/298.0 kB 2.6 MB/s eta 0:00:00\n",
      "Requirement already satisfied: regex>=2021.8.3 in c:\\users\\shukl\\anaconda3\\envs\\matscibert\\lib\\site-packages (from nltk) (2022.10.31)\n",
      "Requirement already satisfied: tqdm in c:\\users\\shukl\\anaconda3\\envs\\matscibert\\lib\\site-packages (from nltk) (4.64.1)\n",
      "Requirement already satisfied: colorama in c:\\users\\shukl\\anaconda3\\envs\\matscibert\\lib\\site-packages (from click->nltk) (0.4.6)\n",
      "Requirement already satisfied: importlib-metadata in c:\\users\\shukl\\anaconda3\\envs\\matscibert\\lib\\site-packages (from click->nltk) (6.0.0)\n",
      "Requirement already satisfied: typing-extensions>=3.6.4 in c:\\users\\shukl\\anaconda3\\envs\\matscibert\\lib\\site-packages (from importlib-metadata->click->nltk) (4.5.0)\n",
      "Requirement already satisfied: zipp>=0.5 in c:\\users\\shukl\\anaconda3\\envs\\matscibert\\lib\\site-packages (from importlib-metadata->click->nltk) (3.14.0)\n",
      "Installing collected packages: joblib, click, nltk\n",
      "Successfully installed click-8.1.3 joblib-1.2.0 nltk-3.8.1\n",
      "Note: you may need to restart the kernel to use updated packages.\n"
     ]
    }
   ],
   "source": [
    "pip install nltk"
   ]
  },
  {
   "cell_type": "code",
   "execution_count": 22,
   "metadata": {},
   "outputs": [],
   "source": [
    "from nltk import tokenize"
   ]
  },
  {
   "cell_type": "code",
   "execution_count": 6,
   "metadata": {},
   "outputs": [],
   "source": [
    "for i in dict:\n",
    "    p = dict[i]\n",
    "    lst = []\n",
    "    lst = p.split('. ')\n",
    "    dict[i] = lst\n"
   ]
  },
  {
   "cell_type": "code",
   "execution_count": 39,
   "metadata": {},
   "outputs": [
    {
     "name": "stdout",
     "output_type": "stream",
     "text": [
      "{'introduction': 'High entropy alloys (HEAs), a new alloy system, are usually composed of five or more metal elements in equal or nearly equal atomic ratios. High entropy alloys have significant multi-element effects: high entropy, slow diffusion, lattice distortion and cocktail effects[[1], [2], [3], [4]]. In the design concept of traditional alloys, the more kinds of metals added into the alloy, the more serious embrittlement will be caused. However, due to the high mixing entropy effect [[5], [6]], the high-entropy alloy is more inclined to form simple solid solution structures (FCC, BCC, FCC+BCC) [[7], [8], [9], [10], [11], [12], [13], [14], [15], [16], [17], [18], [19]], rather than the complex solid solution structure in traditional alloys. Generally, face-centered cubic (FCC) single-phase HEAs have good ductility but low yield strength, while body-centered cubic (BCC) single-phase HEAs have high yield strength but limited plasticity [20]. The simple solid solution structure makes high-entropy alloys have good structural stability [[21], [22], [23]], so the high-entropy alloys have many excellent properties, such as good mechanical properties [22,[24], [25], [26], [27]], thermal stability [[28], [29], [30], [31], [32]], high fracture toughness [33,34], high creep resistance [35,36], etc. Therefore, in recent years, domestic and foreign scholars have conducted extensive studies on the deformation behavior of HEAs [[37], [38], [39]]. However, the deformation process always involves various interrelated metallurgical phenomena, such as work hardening (WH), dynamic recovery (DRV) and dynamic recrystallization (DRX)[40,41]. Among them, dynamic recrystallization is an important softening mechanism in the process of hot deformation of materials, and the fine grains produced can effectively improve their mechanical properties as required[42]. As one of the main softening mechanisms of metal materials during thermal deformation, dynamic recrystallization is conducive to grain refinement. By reducing anisotropy and deformation resistance, it can enhance the formability of alloys and improve the comprehensive mechanical properties of materials.\\n\\nRecently, dynamic recrystallization behavior has been extensively studied by domestic and foreign scholars. Among which, Wang et al [43]. described in detail the transformation from partial to complete recrystallization of Al0.3CoCrFeNi eutectic high-entropy alloy and the precipitation behavior after annealing, they found that the decrease in hardness was caused by softening due to dynamic recrystallization and dynamic recovery. Zhang et al [44]. studied the hot deformation behavior of the FCC structure AlCoCrFeNi2.1 high-entropy alloy, which exhibits excellent extensibility caused by the precipitation of B2 phase and the generation of dynamic recrystallization (DRX). It can be seen that the softening behavior and hardness decrease during thermal deformation of high-entropy alloys are caused by dynamic recrystallization, but due to the characteristics of high strength and low plasticity of single-phase BCC structure high-entropy alloys, the formability of them are poor and the hot working region is usually difficult to determine. Therefore, it is important to study the dynamic recrystallization behavior for determining the hot formability of single-phase BCC structure high-entropy alloy. Zeinab Savaedi et al[45]. discussed the hot deformation behavior of various high-entropy alloys and the constitutive relationship of flow stress. The formation of necklace-like structures during dynamic recrystallization and the effect of process parameters on dynamic recrystallization grain size are described. Therefore, hot working is often used to refine dynamic recrystallization (DRX) grains to reduce casting defects and enhancement the mechanical properties of HEAS at present. In order to understand the dynamic recrystallization behavior in hot deformation process, it is very important to study the critical condition of dynamic recrystallization. Dynamic recrystallization can occur only when the strain reaches the critical strain of dynamic recrystallization. Therefore, the establishment of the critical strain model is very important for the whole dynamic recrystallization model. Domestic and foreign scholars [[46], [47], [48]] have successively proposed the critical strain model and dynamic recrystallization kinetic model to describe the dynamic recrystallization process. The critical condition of dynamic recrystallization is determined by the initial strain and stress, which is closely related to the conditions of hot deformation. However, there are few studies on the dynamic recrystallization model of single-phase BCC high-entropy alloy at present. Therefore, it is important to determine the critical conditions of dynamic recrystallization under different hot deformation conditions and establish its critical strain model [48] to determine the occurrence of dynamic recrystallization during hot deformation. The study of the dynamic recrystallization structure stabilization control during hot deformation is one of the common problems to improve the forging technology of AlFeCoNiMo0.2 high-entropy alloy. To study the effects of critical strain and nucleation mechanism of AlFeCoNiMo0.2 high-entropy alloy during hot compression, which provides a basis for further research on the development and hot working process of the alloy.\\n\\nThus, the single-phase BCC structure AlFeCoNiMo0.2 high-entropy alloy was selected as the research object in this study. Based on the single-pass hot compression tests at different temperatures and strain rates, the dynamic recrystallization behavior under different deformation conditions was studied in combination with the microstructure characteristics. The KM model is used to describe the relationship between dynamic recrystallization flow stress and strain. According to the Poliak-Jonas criterion, the critical condition of DRX is determined according to the hardening rate, and the strain model of DRX is established. The microstructure of the alloy is characterized by TEM and EBSD, and the results of the above modeling theory are verified by microstructure. The effects of critical strain and nucleation mechanism during the hot compression of AlFeCoNiMo0.2 HEA are studied, which laid a foundation for further research on the development and hot working process of the HEA.', 'Experimental Methods': 'The self-designed AlFeCoNiMo0.2 HEA was made by melting pure metal raw materials (>99.9%) of high-purity Al,Fe,Co, Ni and Mo in a water-cooled copper crucible (23.81Al, 23.81Fe, 23.81Co, 23.81Ni, 4.76Mo, at%). During the melting process, the alloy was repeatedly melted 4 times to ensure the homogeneity of the composition. The homogenized HEA was processed into a compression specimens with a diameter of 8 mm and a height of 12 mm. The Gleeble-3800 thermomechanical simulator was used to single-pass high temperature compression test. To reduce the friction and uneven deformation during the test, pasted the graphite sheets at the end of the sample for lubrication. Heated the sample to the target temperature at a rate of 10°C/s and held for 5 min, and then start compression. The samples were compressed at the temperature of 900, 950, 1000, 1050, 1100, 1150°C and the strain rates of 0.001, 0.01, 0.1, 1 s-1. The maximum strain was 0.6. According to the influence of the maximum diameter friction effect proposed by Ebrahimi et al., the stress-strain curves were modified [49]. Water quenching immediately after compression to retain high temperature structure.The hot-compressed AlFeCoNiMo0.2 high-entropy alloy was made into samples along the compression direction, and then the section of the sample is ground, polished and corroded. In order to study the dynamic recrystallization during hot compression, the microstructure was observed by Gemini-300 scanning electron microscope (SEM), and the transmission samples were thinned by Struers Tenupol-5 electrolytic double-jet thinning instrument. Finally, the dynamic recrystallization behavior was characterized by JEM-2100 transmission electron microscope.'}\n"
     ]
    }
   ],
   "source": [
    "print(dict)"
   ]
  },
  {
   "cell_type": "code",
   "execution_count": 53,
   "metadata": {},
   "outputs": [],
   "source": [
    "sentences = ['SiO2 is a network former.','Steel is very good in industrial process', 'High carbon steel is good for turbine']\n",
    "sentences = ['High entropy alloys, a new alloy system, are usually composed of five or more metal elements in equal or nearly equal atomic ratios.']\n",
    "norm_sents = [normalize(s) for s in sentences]\n",
    "tokenized_sents = tokenizer(norm_sents)\n",
    "tokenized_sents = {k: torch.Tensor(v).long() for k, v in tokenized_sents.items()}"
   ]
  },
  {
   "cell_type": "code",
   "execution_count": 54,
   "metadata": {},
   "outputs": [],
   "source": [
    "with torch.no_grad():\n",
    "    last_hidden_state = model(**tokenized_sents)[0]"
   ]
  }
 ],
 "metadata": {
  "kernelspec": {
   "display_name": "matscibert",
   "language": "python",
   "name": "python3"
  },
  "language_info": {
   "codemirror_mode": {
    "name": "ipython",
    "version": 3
   },
   "file_extension": ".py",
   "mimetype": "text/x-python",
   "name": "python",
   "nbconvert_exporter": "python",
   "pygments_lexer": "ipython3",
   "version": "3.7.9"
  },
  "orig_nbformat": 4,
  "vscode": {
   "interpreter": {
    "hash": "e8cf0d7c001d12ac77e91cbda463b5a2f7bf9e6a58b8489b9da98d34a8054f9e"
   }
  }
 },
 "nbformat": 4,
 "nbformat_minor": 2
}
