{
 "cells": [
  {
   "cell_type": "code",
   "execution_count": 1,
   "metadata": {},
   "outputs": [
    {
     "name": "stderr",
     "output_type": "stream",
     "text": [
      "c:\\Users\\shukl\\anaconda3\\envs\\matscibert\\lib\\site-packages\\tqdm\\auto.py:22: TqdmWarning: IProgress not found. Please update jupyter and ipywidgets. See https://ipywidgets.readthedocs.io/en/stable/user_install.html\n",
      "  from .autonotebook import tqdm as notebook_tqdm\n"
     ]
    }
   ],
   "source": [
    "import torch\n",
    "from normalize_text import normalize\n",
    "from transformers import AutoModel, AutoTokenizer"
   ]
  },
  {
   "cell_type": "code",
   "execution_count": 2,
   "metadata": {},
   "outputs": [
    {
     "name": "stderr",
     "output_type": "stream",
     "text": [
      "Some weights of the model checkpoint at m3rg-iitd/matscibert were not used when initializing BertModel: ['cls.predictions.transform.LayerNorm.weight', 'cls.predictions.transform.LayerNorm.bias', 'cls.predictions.transform.dense.weight', 'cls.predictions.decoder.bias', 'cls.predictions.transform.dense.bias', 'cls.predictions.bias', 'cls.predictions.decoder.weight']\n",
      "- This IS expected if you are initializing BertModel from the checkpoint of a model trained on another task or with another architecture (e.g. initializing a BertForSequenceClassification model from a BertForPreTraining model).\n",
      "- This IS NOT expected if you are initializing BertModel from the checkpoint of a model that you expect to be exactly identical (initializing a BertForSequenceClassification model from a BertForSequenceClassification model).\n",
      "Some weights of BertModel were not initialized from the model checkpoint at m3rg-iitd/matscibert and are newly initialized: ['bert.pooler.dense.bias', 'bert.pooler.dense.weight']\n",
      "You should probably TRAIN this model on a down-stream task to be able to use it for predictions and inference.\n"
     ]
    }
   ],
   "source": [
    "tokenizer = AutoTokenizer.from_pretrained('m3rg-iitd/matscibert')\n",
    "model = AutoModel.from_pretrained('m3rg-iitd/matscibert')"
   ]
  },
  {
   "attachments": {},
   "cell_type": "markdown",
   "metadata": {},
   "source": [
    "BeautifulSoup"
   ]
  },
  {
   "cell_type": "code",
   "execution_count": 3,
   "metadata": {},
   "outputs": [],
   "source": [
    "from bs4 import BeautifulSoup # this module helps in web scrapping.\n",
    "import requests  # this module helps us to download a web page"
   ]
  },
  {
   "cell_type": "code",
   "execution_count": 4,
   "metadata": {},
   "outputs": [],
   "source": [
    "url = \"https://www.sciencedirect.com/science/article/pii/S0022309313000707\""
   ]
  },
  {
   "cell_type": "code",
   "execution_count": 5,
   "metadata": {},
   "outputs": [],
   "source": [
    "data  = requests.get(url).text \n",
    "soup = BeautifulSoup(data,\"html.parser\")\n"
   ]
  },
  {
   "cell_type": "code",
   "execution_count": 6,
   "metadata": {},
   "outputs": [],
   "source": [
    "[s.extract() for s in soup(['style', 'script', '[document]', 'head', 'title'])]\n",
    "visible_text = soup.getText()"
   ]
  },
  {
   "cell_type": "code",
   "execution_count": 7,
   "metadata": {},
   "outputs": [
    {
     "data": {
      "text/plain": [
       "str"
      ]
     },
     "execution_count": 7,
     "metadata": {},
     "output_type": "execute_result"
    }
   ],
   "source": [
    "type(visible_text)"
   ]
  },
  {
   "cell_type": "code",
   "execution_count": 8,
   "metadata": {},
   "outputs": [],
   "source": [
    "# sentences = ['SiO2 is a network former.','Steel is very good in industrial process', 'High carbon steel is good for turbine']\n",
    "# sentences = ['High entropy alloys, a new alloy system, are usually composed of five or more metal elements in equal or nearly equal atomic ratios.']\n",
    "# sentences = dict['introduction']\n",
    "sentences =  [visible_text]\n",
    "norm_sents = [normalize(s) for s in sentences]\n",
    "tokenized_sents = tokenizer(norm_sents)\n",
    "tokenized_sents = {k: torch.Tensor(v).long() for k, v in tokenized_sents.items()}"
   ]
  },
  {
   "cell_type": "code",
   "execution_count": 9,
   "metadata": {},
   "outputs": [],
   "source": [
    "with torch.no_grad():\n",
    "    last_hidden_state = model(**tokenized_sents)[0]"
   ]
  },
  {
   "cell_type": "code",
   "execution_count": 10,
   "metadata": {},
   "outputs": [
    {
     "data": {
      "text/plain": [
       "tensor([[[-0.1459,  0.1093, -0.1916,  ...,  0.1134, -0.2270, -0.1743],\n",
       "         [-0.1191, -0.3100,  0.4339,  ..., -0.4025,  0.2183, -0.1484],\n",
       "         [ 0.1975,  0.8109,  0.0429,  ...,  0.4780,  0.5580, -0.9326],\n",
       "         ...,\n",
       "         [-1.1524,  0.9054, -1.1578,  ..., -0.8804, -0.2292, -1.3605],\n",
       "         [-0.0289, -0.1456, -0.1006,  ..., -1.0442, -1.0612, -0.5023],\n",
       "         [-0.4810, -0.0471,  0.8317,  ..., -0.8720, -1.4123, -0.3847]]])"
      ]
     },
     "execution_count": 10,
     "metadata": {},
     "output_type": "execute_result"
    }
   ],
   "source": [
    "last_hidden_state"
   ]
  }
 ],
 "metadata": {
  "kernelspec": {
   "display_name": "matscibert",
   "language": "python",
   "name": "python3"
  },
  "language_info": {
   "codemirror_mode": {
    "name": "ipython",
    "version": 3
   },
   "file_extension": ".py",
   "mimetype": "text/x-python",
   "name": "python",
   "nbconvert_exporter": "python",
   "pygments_lexer": "ipython3",
   "version": "3.7.9"
  },
  "orig_nbformat": 4,
  "vscode": {
   "interpreter": {
    "hash": "e8cf0d7c001d12ac77e91cbda463b5a2f7bf9e6a58b8489b9da98d34a8054f9e"
   }
  }
 },
 "nbformat": 4,
 "nbformat_minor": 2
}
